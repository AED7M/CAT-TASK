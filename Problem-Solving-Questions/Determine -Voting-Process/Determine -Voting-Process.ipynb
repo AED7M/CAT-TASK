{
 "cells": [
  {
   "cell_type": "markdown",
   "metadata": {},
   "source": [
    "### Solution Workflow\n",
    "\n",
    "After i understanded the problem to find if the process will continue indefinitely, we need to follow these steps:\n",
    "\n",
    "1. **Check for Special Cases**:\n",
    "   - If there is only one programmer or only one algorithm, the process will end immediately.\n",
    "\n",
    "2. **Check for Divisibility**:\n",
    "   - If the number of programmers is divisible by the number of algorithms, it is possible for the programmers to distribute their votes equally among the algorithms. This results in a tie, causing the process to continue indefinitely.\n",
    "\n",
    "3. **Determine Termination**:\n",
    "   - If the number of programmers is not divisible by the number of algorithms, eventually one algorithm will receive more votes than the others. This leads to the termination of the process.\n"
   ]
  },
  {
   "cell_type": "code",
   "execution_count": null,
   "metadata": {},
   "outputs": [],
   "source": [
    "def determine_voting_process(t, test_cases):\n",
    "    results = []\n",
    "    for n, m in test_cases:\n",
    "        if m == 1:\n",
    "            results.append(\"YES\")\n",
    "        elif n % m == 0:\n",
    "            results.append(\"NO\")\n",
    "        else:\n",
    "            results.append(\"YES\")\n",
    "    return results"
   ]
  }
 ],
 "metadata": {
  "language_info": {
   "name": "python"
  }
 },
 "nbformat": 4,
 "nbformat_minor": 2
}
