{
 "cells": [
  {
   "cell_type": "markdown",
   "metadata": {},
   "source": [
    "**Solution Steps:**\n",
    "\n",
    "1. I used a `CROSS JOIN` to generate a table that includes every possible combination of student IDs, student names, and subjects.\n",
    "\n",
    "2. I then did a `LEFT JOIN` between this combined table and the `Examinations` table. This step nakes sure that all student and subject pair are included even if the student did not attend the exam for a particular subject.\n",
    "\n",
    "3. To count how many times each student attended each subject's exam, I used the `COUNT` function on the `subject_name` column from the `Examinations` table. This counts the number of non-null rows which is the number of exam attendances for the student.\n",
    "\n",
    "4. Then I grouped the results by `student_id`, `student_name`, and `subject_name` to ensure the count function work correctly for each combination.\n",
    "\n",
    "5. AT the end, I ordered the results by `student_id` and `subject_name` to match the required output format."
   ]
  },
  {
   "cell_type": "code",
   "execution_count": null,
   "metadata": {
    "vscode": {
     "languageId": "sql"
    }
   },
   "outputs": [],
   "source": [
    "SELECT \n",
    "    S.student_id, \n",
    "    S.student_name, \n",
    "    Sub.subject_name,\n",
    "    COUNT(E.subject_name) AS attended_exams \n",
    "FROM\n",
    "    Students S\n",
    "CROSS JOIN \n",
    "    Subjects Sub\n",
    "LEFT JOIN\n",
    "    Examinations E\n",
    "ON\n",
    "    S.student_id = E.student_id AND Sub.subject_name = E.subject_name\n",
    "GROUP BY \n",
    "    S.student_id, S.student_name, Sub.subject_name\n",
    "ORDER BY \n",
    "    S.student_id, Sub.subject_name"
   ]
  }
 ],
 "metadata": {
  "language_info": {
   "name": "python"
  }
 },
 "nbformat": 4,
 "nbformat_minor": 2
}
