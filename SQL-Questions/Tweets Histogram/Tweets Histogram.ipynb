{
 "cells": [
  {
   "cell_type": "markdown",
   "metadata": {},
   "source": [
    "### Solution Steps:\n",
    "\n",
    "1. **Calculate Tweets per User in 2022**:\n",
    "   - First, I found the number of tweets made by each user in 2022 Then, I grouped the results by `user_id` and counted the number of tweets for each user.After that I stored the result in a **CTE (Common Table Expression)** for better performance and code readability. \n",
    "\n",
    "2. **Count Users in Each Tweet Bucket**:\n",
    "   - Using the CTE I grouped the results by the number of tweets each user made in 2022. This creates \"tweet buckets\" based on the number of tweets, then i counted the number of users in each group to find how many users fall into each tweet bucket. \n"
   ]
  },
  {
   "cell_type": "code",
   "execution_count": null,
   "metadata": {
    "vscode": {
     "languageId": "sql"
    }
   },
   "outputs": [],
   "source": [
    "WITH number_of_tweets_per_user AS(\n",
    "    SELECT\n",
    "        user_id, COUNT(tweet_id) AS number_of_tweets\n",
    "    FROM\n",
    "        tweets\n",
    "    WHERE\n",
    "        tweet_date BETWEEN '2022-01-01' AND '2023-01-01'\n",
    "    GROUP BY \n",
    "        user_id\n",
    ")\n",
    "SELECT \n",
    "    number_of_tweets AS tweet_bucket,\n",
    "    COUNT(user_id) AS users_num\n",
    "FROM\n",
    "    number_of_tweets_per_user\n",
    "GROUP BY \n",
    "    number_of_tweets"
   ]
  }
 ],
 "metadata": {
  "language_info": {
   "name": "python"
  }
 },
 "nbformat": 4,
 "nbformat_minor": 2
}
